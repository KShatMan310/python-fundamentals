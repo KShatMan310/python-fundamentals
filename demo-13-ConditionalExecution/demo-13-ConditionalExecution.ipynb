{
 "cells": [
  {
   "cell_type": "code",
   "execution_count": 1,
   "metadata": {},
   "outputs": [
    {
     "name": "stdout",
     "output_type": "stream",
     "text": [
      "This condition is always true, which means this code will always run!\n"
     ]
    }
   ],
   "source": [
    "if True:\n",
    "    print(\"This condition is always true, which means this code will always run!\")"
   ]
  },
  {
   "cell_type": "code",
   "execution_count": 2,
   "metadata": {},
   "outputs": [],
   "source": [
    "if False:\n",
    "    print(\"This condition is always false, which means this code will never run!\")"
   ]
  },
  {
   "cell_type": "code",
   "execution_count": 1,
   "metadata": {},
   "outputs": [
    {
     "name": "stdout",
     "output_type": "stream",
     "text": [
      "1000 is greater than 100\n"
     ]
    }
   ],
   "source": [
    "if 1000 > 100:\n",
    "    print(\"1000 is greater than 100\")"
   ]
  },
  {
   "cell_type": "code",
   "execution_count": 2,
   "metadata": {},
   "outputs": [
    {
     "ename": "IndentationError",
     "evalue": "expected an indented block (<ipython-input-2-76c7bfb94a42>, line 2)",
     "output_type": "error",
     "traceback": [
      "\u001b[0;36m  File \u001b[0;32m\"<ipython-input-2-76c7bfb94a42>\"\u001b[0;36m, line \u001b[0;32m2\u001b[0m\n\u001b[0;31m    print(\"1000 is greater than 100\")\u001b[0m\n\u001b[0m        ^\u001b[0m\n\u001b[0;31mIndentationError\u001b[0m\u001b[0;31m:\u001b[0m expected an indented block\n"
     ]
    }
   ],
   "source": [
    "if 1000 > 100:\n",
    "print(\"1000 is greater than 100\")"
   ]
  },
  {
   "cell_type": "code",
   "execution_count": 8,
   "metadata": {},
   "outputs": [],
   "source": [
    "gross_salary = 50000\n",
    "\n",
    "if gross_salary >= 50000:\n",
    "    tax_rate = 30"
   ]
  },
  {
   "cell_type": "code",
   "execution_count": 9,
   "metadata": {},
   "outputs": [
    {
     "name": "stdout",
     "output_type": "stream",
     "text": [
      "30\n"
     ]
    }
   ],
   "source": [
    "print(tax_rate)"
   ]
  },
  {
   "cell_type": "code",
   "execution_count": 11,
   "metadata": {},
   "outputs": [],
   "source": [
    "del tax_rate"
   ]
  },
  {
   "cell_type": "code",
   "execution_count": 12,
   "metadata": {},
   "outputs": [],
   "source": [
    "gross_salary = 40000\n",
    "\n",
    "if gross_salary >= 50000:\n",
    "    tax_rate = 30"
   ]
  },
  {
   "cell_type": "code",
   "execution_count": 13,
   "metadata": {},
   "outputs": [
    {
     "ename": "NameError",
     "evalue": "name 'tax_rate' is not defined",
     "output_type": "error",
     "traceback": [
      "\u001b[0;31m---------------------------------------------------------------------------\u001b[0m",
      "\u001b[0;31mNameError\u001b[0m                                 Traceback (most recent call last)",
      "\u001b[0;32m<ipython-input-13-937b71b3a196>\u001b[0m in \u001b[0;36m<module>\u001b[0;34m\u001b[0m\n\u001b[0;32m----> 1\u001b[0;31m \u001b[0mprint\u001b[0m\u001b[0;34m(\u001b[0m\u001b[0mtax_rate\u001b[0m\u001b[0;34m)\u001b[0m\u001b[0;34m\u001b[0m\u001b[0;34m\u001b[0m\u001b[0m\n\u001b[0m",
      "\u001b[0;31mNameError\u001b[0m: name 'tax_rate' is not defined"
     ]
    }
   ],
   "source": [
    "print(tax_rate)"
   ]
  },
  {
   "cell_type": "code",
   "execution_count": 14,
   "metadata": {},
   "outputs": [
    {
     "name": "stdout",
     "output_type": "stream",
     "text": [
      "30\n"
     ]
    }
   ],
   "source": [
    "if gross_salary >= 40000:\n",
    "    tax_rate = 30\n",
    "    \n",
    "print(tax_rate)"
   ]
  },
  {
   "cell_type": "code",
   "execution_count": 15,
   "metadata": {},
   "outputs": [
    {
     "name": "stdout",
     "output_type": "stream",
     "text": [
      "James was present in names_list\n"
     ]
    }
   ],
   "source": [
    "names_list = [\"James\", \"Greg\", \"Cameron\", \"Robert\", \"Emily\"]\n",
    "\n",
    "if \"James\" in names_list:\n",
    "    \n",
    "    names_list.append(\"Bond\")\n",
    "    \n",
    "    print(\"James was present in names_list\")"
   ]
  },
  {
   "cell_type": "code",
   "execution_count": 16,
   "metadata": {},
   "outputs": [
    {
     "data": {
      "text/plain": [
       "['James', 'Greg', 'Cameron', 'Robert', 'Emily', 'Bond']"
      ]
     },
     "execution_count": 16,
     "metadata": {},
     "output_type": "execute_result"
    }
   ],
   "source": [
    "names_list"
   ]
  },
  {
   "cell_type": "code",
   "execution_count": 17,
   "metadata": {},
   "outputs": [
    {
     "data": {
      "text/plain": [
       "{'Ray': 34000, 'Jacob': 35000, 'Lisa': 40000, 'Raj': 32000}"
      ]
     },
     "execution_count": 17,
     "metadata": {},
     "output_type": "execute_result"
    }
   ],
   "source": [
    "employee_salaries = {\"Ray\": 34000,\n",
    "                     \"Jacob\": 35000,\n",
    "                     \"Lisa\": 40000,\n",
    "                     \"Raj\": 32000}\n",
    "\n",
    "employee_salaries"
   ]
  },
  {
   "cell_type": "code",
   "execution_count": 18,
   "metadata": {},
   "outputs": [],
   "source": [
    "if \"Donna\" not in employee_salaries:\n",
    "    employee_salaries[\"Donna\"] = 46000"
   ]
  },
  {
   "cell_type": "code",
   "execution_count": 19,
   "metadata": {},
   "outputs": [
    {
     "data": {
      "text/plain": [
       "{'Ray': 34000, 'Jacob': 35000, 'Lisa': 40000, 'Raj': 32000, 'Donna': 46000}"
      ]
     },
     "execution_count": 19,
     "metadata": {},
     "output_type": "execute_result"
    }
   ],
   "source": [
    "employee_salaries"
   ]
  },
  {
   "cell_type": "code",
   "execution_count": 20,
   "metadata": {},
   "outputs": [
    {
     "name": "stdout",
     "output_type": "stream",
     "text": [
      "Donna's salary is:  46000\n"
     ]
    }
   ],
   "source": [
    "if \"Donna\" in employee_salaries.keys():\n",
    "    print(\"Donna's salary is: \", employee_salaries[\"Donna\"])"
   ]
  },
  {
   "cell_type": "code",
   "execution_count": 21,
   "metadata": {},
   "outputs": [
    {
     "name": "stdout",
     "output_type": "stream",
     "text": [
      "Ray's original salary:  34000\n",
      "Ray's updated salary:  37400.0\n"
     ]
    }
   ],
   "source": [
    "if employee_salaries[\"Ray\"] > 30000 and employee_salaries[\"Ray\"] < 40000:\n",
    "    \n",
    "    print(\"Ray's original salary: \", employee_salaries[\"Ray\"])\n",
    "\n",
    "    employee_salaries[\"Ray\"] = employee_salaries[\"Ray\"] * 1.1\n",
    "    \n",
    "    print(\"Ray's updated salary: \", employee_salaries[\"Ray\"])"
   ]
  },
  {
   "cell_type": "code",
   "execution_count": 22,
   "metadata": {},
   "outputs": [
    {
     "data": {
      "text/plain": [
       "['James', 'Greg', 'Cameron', 'Robert', 'Emily', 'Bond']"
      ]
     },
     "execution_count": 22,
     "metadata": {},
     "output_type": "execute_result"
    }
   ],
   "source": [
    "names_list"
   ]
  },
  {
   "cell_type": "code",
   "execution_count": 23,
   "metadata": {},
   "outputs": [
    {
     "name": "stdout",
     "output_type": "stream",
     "text": [
      "We found either Greg or Sara in the names_list\n"
     ]
    }
   ],
   "source": [
    "if (\"Greg\" in names_list) or (\"Sara\" in names_list):\n",
    "    print(\"We found either Greg or Sara in the names_list\")"
   ]
  },
  {
   "cell_type": "code",
   "execution_count": 24,
   "metadata": {},
   "outputs": [
    {
     "name": "stdout",
     "output_type": "stream",
     "text": [
      "20 is less than or equal to 100\n"
     ]
    }
   ],
   "source": [
    "if 20 <= 100:\n",
    "    print(\"20 is less than or equal to 100\")"
   ]
  },
  {
   "cell_type": "code",
   "execution_count": 26,
   "metadata": {},
   "outputs": [],
   "source": [
    "if not (20 <= 100):\n",
    "    print(\"not of a True condition is False\")"
   ]
  },
  {
   "cell_type": "code",
   "execution_count": 29,
   "metadata": {},
   "outputs": [
    {
     "name": "stdout",
     "output_type": "stream",
     "text": [
      "Please enter your score: 34\n",
      "You've failed your examinations:-(\n",
      "Else block executed\n"
     ]
    }
   ],
   "source": [
    "student_score = int(input(\"Please enter your score: \"))\n",
    "\n",
    "if student_score > 45:\n",
    "    print(\"You've passed your examinations!\")\n",
    "    print(\"If block executed\")\n",
    "else:\n",
    "    print(\"You've failed your examinations:-(\")\n",
    "    print(\"Else block executed\")"
   ]
  },
  {
   "cell_type": "code",
   "execution_count": 30,
   "metadata": {},
   "outputs": [
    {
     "ename": "SyntaxError",
     "evalue": "invalid syntax (<ipython-input-30-977b25fa8a9d>, line 4)",
     "output_type": "error",
     "traceback": [
      "\u001b[0;36m  File \u001b[0;32m\"<ipython-input-30-977b25fa8a9d>\"\u001b[0;36m, line \u001b[0;32m4\u001b[0m\n\u001b[0;31m    else:\u001b[0m\n\u001b[0m       ^\u001b[0m\n\u001b[0;31mSyntaxError\u001b[0m\u001b[0;31m:\u001b[0m invalid syntax\n"
     ]
    }
   ],
   "source": [
    "if student_score > 45:\n",
    "    print(\"You've passed your examinations!\")\n",
    "    print(\"If block executed\")\n",
    "    else:\n",
    "    print(\"You've failed your examinations:-(\")\n",
    "    print(\"Else block executed\")"
   ]
  },
  {
   "cell_type": "code",
   "execution_count": 31,
   "metadata": {},
   "outputs": [
    {
     "name": "stdout",
     "output_type": "stream",
     "text": [
      "num before expression:  50\n",
      "num after expression:  30\n"
     ]
    }
   ],
   "source": [
    "num = 50\n",
    "print(\"num before expression: \", num)\n",
    "\n",
    "num = num - 20 if num > 20 else num + 20\n",
    "\n",
    "print(\"num after expression: \", num)"
   ]
  },
  {
   "cell_type": "code",
   "execution_count": 32,
   "metadata": {},
   "outputs": [
    {
     "name": "stdout",
     "output_type": "stream",
     "text": [
      "Number before expression :  100\n",
      "Number after expression :  500\n"
     ]
    }
   ],
   "source": [
    "num = 100\n",
    "print(\"Number before expression : \", num)\n",
    "\n",
    "result = num / 5 if num < 50 else num * 5\n",
    "\n",
    "print(\"Number after expression : \", result)"
   ]
  },
  {
   "cell_type": "code",
   "execution_count": 34,
   "metadata": {},
   "outputs": [
    {
     "name": "stdout",
     "output_type": "stream",
     "text": [
      "Please enter your score: 55\n",
      "Your grade is B\n",
      "Second elif block executed\n",
      "This print statement is outside the if-elif-else blocks\n"
     ]
    }
   ],
   "source": [
    "student_score = int(input(\"Please enter your score: \"))\n",
    "\n",
    "if student_score > 85:\n",
    "    print(\"Your grade is A\")\n",
    "    print(\"If block executed\")\n",
    "elif student_score > 65:\n",
    "    print(\"Your grade is B\")\n",
    "    print(\"First elif block executed\")\n",
    "elif student_score > 50:\n",
    "    print(\"Your grade is B\")\n",
    "    print(\"Second elif block executed\")\n",
    "else:\n",
    "    print(\"Your grade is C\")\n",
    "    print(\"Else block executed\")\n",
    "\n",
    "print(\"This print statement is outside the if-elif-else blocks\")"
   ]
  },
  {
   "cell_type": "code",
   "execution_count": 43,
   "metadata": {},
   "outputs": [
    {
     "name": "stdout",
     "output_type": "stream",
     "text": [
      "Please enter how many items were ordered: 23\n",
      "Please enter how many items are present in your inventory: 30\n",
      "We have the number of items you need in stock\n"
     ]
    }
   ],
   "source": [
    "items_ordered = int(input(\"Please enter how many items were ordered: \"))\n",
    "\n",
    "items_inventory = int(input(\"Please enter how many items are present in your inventory: \"))\n",
    "\n",
    "if (items_ordered > items_inventory):\n",
    "    \n",
    "    print(\"I am afraid we do not have these many items in stock\")\n",
    "\n",
    "elif (items_ordered <= items_inventory):\n",
    "    \n",
    "    if (items_ordered == items_inventory):\n",
    "        print(\"You're lucky, we have exactly the number of items you need\")\n",
    "    else:\n",
    "        print(\"We have the number of items you need\")\n",
    "        \n",
    "    items_inventory -= items_ordered\n",
    "    \n",
    "    if (items_inventory < 2):\n",
    "        print(\"Time to reorder these items\")"
   ]
  },
  {
   "cell_type": "markdown",
   "metadata": {},
   "source": [
    "### Coding Practice\n",
    "\n",
    "Write a program that asks the user to input a number and checks if the number is even or odd. Print \"Even\" if the number is even, and \"Odd\" if the number is odd.\n",
    "\n",
    "Hint: Use the modulus operator %."
   ]
  },
  {
   "cell_type": "markdown",
   "metadata": {},
   "source": [
    "### Coding Practice\n",
    "\n",
    "Write a program that takes a number as input from the user and prints whether the number is positive, negative, or zero.\n",
    "\n",
    "Hint: Use a series of if-elif-else statements."
   ]
  },
  {
   "cell_type": "markdown",
   "metadata": {},
   "source": [
    "### Coding Practice\n",
    "\n",
    "Write a program that asks the user to input their age and prints whether they are a child (age < 12), a teenager (age 12-17), an adult (age 18-64), or a senior (age 65 and above).\n",
    "\n",
    "Hint: Use multiple if-elif-else conditions."
   ]
  },
  {
   "cell_type": "markdown",
   "metadata": {},
   "source": [
    "### Coding Practice\n",
    "\n",
    "Write a program that asks the user to input two numbers and an operator (+, -, *, /). \n",
    "\n",
    "Hint: Use if-elif-else to check the operator."
   ]
  },
  {
   "cell_type": "code",
   "execution_count": null,
   "metadata": {},
   "outputs": [],
   "source": []
  },
  {
   "cell_type": "code",
   "execution_count": null,
   "metadata": {},
   "outputs": [],
   "source": []
  },
  {
   "cell_type": "code",
   "execution_count": null,
   "metadata": {},
   "outputs": [],
   "source": []
  },
  {
   "cell_type": "code",
   "execution_count": null,
   "metadata": {},
   "outputs": [],
   "source": []
  },
  {
   "cell_type": "code",
   "execution_count": null,
   "metadata": {},
   "outputs": [],
   "source": []
  }
 ],
 "metadata": {
  "kernelspec": {
   "display_name": "Python 3 (ipykernel)",
   "language": "python",
   "name": "python3"
  },
  "language_info": {
   "codemirror_mode": {
    "name": "ipython",
    "version": 3
   },
   "file_extension": ".py",
   "mimetype": "text/x-python",
   "name": "python",
   "nbconvert_exporter": "python",
   "pygments_lexer": "ipython3",
   "version": "3.10.9"
  }
 },
 "nbformat": 4,
 "nbformat_minor": 2
}
